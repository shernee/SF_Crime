{
 "cells": [
  {
   "cell_type": "code",
   "execution_count": null,
   "metadata": {},
   "outputs": [],
   "source": [
    "import pandas as pd\n",
    "import numpy as np"
   ]
  },
  {
   "cell_type": "code",
   "execution_count": null,
   "metadata": {},
   "outputs": [],
   "source": [
    "from bokeh.plotting import figure, show\n",
    "from bokeh.models import NumeralTickFormatter, ColumnDataSource\n",
    "from bokeh.palettes import mpl,Spectral8,magma\n",
    "from bokeh.core.properties import value \n",
    "from bokeh.layouts import row,column,WidgetBox"
   ]
  },
  {
   "cell_type": "code",
   "execution_count": null,
   "metadata": {},
   "outputs": [],
   "source": [
    "from bokeh.io import output_notebook,push_notebook,show,curdoc\n",
    "output_notebook()"
   ]
  },
  {
   "cell_type": "markdown",
   "metadata": {},
   "source": [
    "## Data Aquisition and Reading"
   ]
  },
  {
   "cell_type": "code",
   "execution_count": null,
   "metadata": {},
   "outputs": [],
   "source": [
    "pd.set_option('display.notebook.repr.html',True)"
   ]
  },
  {
   "cell_type": "code",
   "execution_count": null,
   "metadata": {},
   "outputs": [],
   "source": [
    "!wc -l data.csv"
   ]
  },
  {
   "cell_type": "markdown",
   "metadata": {},
   "source": [
    "The downloaded data is stored in Data.csv"
   ]
  },
  {
   "cell_type": "code",
   "execution_count": null,
   "metadata": {},
   "outputs": [],
   "source": [
    "df_raw1=pd.read_csv('../Data.csv',nrows=1107513,parse_dates=[[4,5]],index_col=0,usecols=[0,1,2,3,4,5,6,7,8,9,10,11,12,13,14,15,16])\n",
    "df_raw2=pd.read_csv('../Data.csv',header=None,skiprows=1107514,parse_dates=[[4,5]],index_col=0,usecols=[0,1,2,3,4,5,6,7,8,9,10,11,12,13,14,15,16])\n",
    "col_names=df_raw1.columns.to_list()\n",
    "df_raw2.columns=col_names\n",
    "df_raw2.index.name=df_raw1.index.name='Date'\n",
    "df_raw=pd.concat([df_raw1,df_raw2])\n",
    "df_raw.to_pickle(path='Data.pkl')"
   ]
  },
  {
   "cell_type": "code",
   "execution_count": null,
   "metadata": {},
   "outputs": [],
   "source": [
    "#df_raw=pd.read_pickle('data.pkl')"
   ]
  },
  {
   "cell_type": "code",
   "execution_count": null,
   "metadata": {},
   "outputs": [],
   "source": [
    "df_raw.head()"
   ]
  },
  {
   "cell_type": "markdown",
   "metadata": {},
   "source": [
    "## Data cleaning"
   ]
  },
  {
   "cell_type": "code",
   "execution_count": null,
   "metadata": {},
   "outputs": [],
   "source": [
    "df_raw.isnull().sum()"
   ]
  },
  {
   "cell_type": "code",
   "execution_count": null,
   "metadata": {},
   "outputs": [],
   "source": [
    "df_raw[df_raw['PdDistrict'].isnull()]"
   ]
  },
  {
   "cell_type": "code",
   "execution_count": null,
   "metadata": {},
   "outputs": [],
   "source": [
    "df_raw['PdDistrict'].fillna('SOUTHERN',inplace=True)"
   ]
  },
  {
   "cell_type": "code",
   "execution_count": null,
   "metadata": {},
   "outputs": [],
   "source": [
    "df_raw['Category']=df_raw['Category'].str.title()\n",
    "df_raw['Descript']=df_raw['Descript'].str.title()\n",
    "df_raw['PdDistrict']=df_raw['PdDistrict'].str.title()\n",
    "df_raw['Resolution']=df_raw['Resolution'].str.title()"
   ]
  },
  {
   "cell_type": "code",
   "execution_count": null,
   "metadata": {},
   "outputs": [],
   "source": [
    "df_app=df_raw[['Category','DayOfWeek','PdDistrict','Resolution','PdId']]\n",
    "df_app.to_pickle(path='appdata.pkl')"
   ]
  },
  {
   "cell_type": "markdown",
   "metadata": {},
   "source": [
    "## Data Analysis and Visualization"
   ]
  },
  {
   "cell_type": "markdown",
   "metadata": {},
   "source": [
    "#### The complete user-interactive visualization is available in the main.py file"
   ]
  },
  {
   "cell_type": "markdown",
   "metadata": {},
   "source": [
    "#### Bar Graphs for different variables"
   ]
  },
  {
   "cell_type": "code",
   "execution_count": null,
   "metadata": {},
   "outputs": [],
   "source": [
    "def create_group_bar(var):\n",
    "    \"\"\"\n",
    "    Create a bar graph of number of crimes versus given variable\n",
    "    \"\"\"\n",
    "    \n",
    "    df_grouped=df_raw.groupby(var)[['PdId']].count().sort_values('PdId',ascending=False)\n",
    "    x=df_grouped.index.tolist()\n",
    "\n",
    "    my_palette=magma(len(df_grouped))\n",
    "    bar=figure(title=f'Bar graph of crimes wrt {var}', height=400, width=700, x_range=x)\n",
    "    bar.vbar(x=x, top=df_grouped['PdId'], bottom=0, width=0.5, color=my_palette)\n",
    "    bar.xaxis.axis_label=f'{var}'\n",
    "    bar.yaxis.axis_label='Number of crimes'\n",
    "    bar.xaxis.major_label_orientation=45\n",
    "    bar.yaxis.formatter=NumeralTickFormatter(format='0,0')\n",
    "    show(bar)"
   ]
  },
  {
   "cell_type": "code",
   "execution_count": null,
   "metadata": {},
   "outputs": [],
   "source": [
    "create_group_bar('DayOfWeek')"
   ]
  },
  {
   "cell_type": "code",
   "execution_count": null,
   "metadata": {},
   "outputs": [],
   "source": [
    "create_group_bar('Category')"
   ]
  },
  {
   "cell_type": "code",
   "execution_count": null,
   "metadata": {},
   "outputs": [],
   "source": [
    "create_group_bar('PdDistrict')"
   ]
  },
  {
   "cell_type": "code",
   "execution_count": null,
   "metadata": {},
   "outputs": [],
   "source": [
    "create_group_bar('Resolution')"
   ]
  },
  {
   "cell_type": "markdown",
   "metadata": {},
   "source": [
    "#### Some numbers w.r.t. 'Resolution'\n",
    "##### 'Resolution' is broadly categorized into 'None', 'Adult' and 'Juvenile' "
   ]
  },
  {
   "cell_type": "code",
   "execution_count": null,
   "metadata": {},
   "outputs": [],
   "source": [
    "none_mask=df_raw['Resolution'].str.contains('None')\n",
    "none_reso=(len(df_raw[none_mask])/len(df_raw))*100\n",
    "print(f'The percentage of None resolutions is {none_reso:0.2f}')"
   ]
  },
  {
   "cell_type": "code",
   "execution_count": null,
   "metadata": {},
   "outputs": [],
   "source": [
    "juv_mask=df_raw['Resolution'].str.contains('Juvenile')\n",
    "df_juv=df_raw[juv_mask]\n",
    "df_adult=df_raw[~((juv_mask) | (none_mask))]\n",
    "\n",
    "juv_reso=(len(df_juv)/len(df_adult)) *100\n",
    "print(f'The percentage of crimes committed by juveniles wrt adults are {juv_reso:0.2f}')"
   ]
  },
  {
   "cell_type": "code",
   "execution_count": null,
   "metadata": {},
   "outputs": [],
   "source": [
    "df_none=df_raw[none_mask]\n",
    "pct_func_none=lambda g: (g['PdId'].count()/len(df_none)) * 100\n",
    "df_none_pct=df_none.groupby('PdDistrict').apply(pct_func_none).to_frame()"
   ]
  },
  {
   "cell_type": "code",
   "execution_count": null,
   "metadata": {},
   "outputs": [],
   "source": [
    "pct_func_all=lambda g: (g['PdId'].count()/len(df_raw)) * 100\n",
    "df_dist_pct=df_raw.groupby('PdDistrict').apply(pct_func_all).to_frame().rename(columns={0:'All_crime'})\n",
    "df_dist_pct['Crime_none_reso']=df_none_pct[0]\n",
    "df_dist_pct=df_dist_pct.style.format(\"{:.2f}\")"
   ]
  },
  {
   "cell_type": "markdown",
   "metadata": {},
   "source": [
    "#### Percentage of crime between districts and percentage of crimes with 'None' Resolution between districts"
   ]
  },
  {
   "cell_type": "code",
   "execution_count": null,
   "metadata": {},
   "outputs": [],
   "source": [
    "df_dist_pct"
   ]
  },
  {
   "cell_type": "markdown",
   "metadata": {},
   "source": [
    "#### Adult Vs Juvenile"
   ]
  },
  {
   "cell_type": "code",
   "execution_count": null,
   "metadata": {},
   "outputs": [],
   "source": [
    "df_adjuv=pd.merge(df_adult, df_juv, how='outer', right_index=True, left_index=True, suffixes=('_adult','_juv')).fillna(0)\n",
    "df_monthly=df_adjuv.resample('M').sum()"
   ]
  },
  {
   "cell_type": "code",
   "execution_count": null,
   "metadata": {},
   "outputs": [],
   "source": [
    "line_adjuv=figure(title='Line graph of Adults Vs Juvenile crimes',height=500, width=750,x_axis_type='datetime')\n",
    "x = df_monthly.index.tolist()\n",
    "line_adjuv.line(x, df_monthly['PdId_adult'], line_color='red')\n",
    "line_adjuv.line(x, df_monthly['PdId_juv'], line_color='green')\n",
    "line_adjuv.xaxis.axis_label='Date'\n",
    "line_adjuv.yaxis.axis_label='Number of crimes'\n",
    "show(line_adjuv)"
   ]
  },
  {
   "cell_type": "markdown",
   "metadata": {},
   "source": [
    "#### None vs Adult vs Juvenile crime among selected districts and categories"
   ]
  },
  {
   "cell_type": "code",
   "execution_count": null,
   "metadata": {},
   "outputs": [],
   "source": [
    "dist=pd.Series(df_raw.groupby('PdDistrict')['PdId'].count().sort_values(ascending=False).index)\n",
    "cat=pd.Series(df_raw.groupby('Category')['PdId'].count().sort_values(ascending=False).index)\n",
    "print(dist)\n",
    "print(cat)"
   ]
  },
  {
   "cell_type": "code",
   "execution_count": null,
   "metadata": {},
   "outputs": [],
   "source": [
    "df_naj=df_raw[(df_raw['PdDistrict'].isin(dist[[0,4]])) & (df_raw['Category'].isin(cat[[0,3,5]]))]\n",
    "n_mask=df_naj['Resolution'].str.contains('None')\n",
    "j_mask=df_naj['Resolution'].str.contains('Juvenile')\n",
    "df_n=df_naj[n_mask].resample('M')[['PdId']].count()\n",
    "df_a=df_naj[~((n_mask) | (j_mask))].resample('M')[['PdId']].count()\n",
    "df_j=df_naj[j_mask].resample('M')[['PdId']].count()\n",
    "\n",
    "x = df_n.index.tolist()\n",
    "line_naj=figure(title='Line graph of None Vs Adults Vs Juvenile crimes',height=500, width=750, \n",
    "                x_axis_type='datetime')\n",
    "line_naj.line(x, df_n['PdId'], color='Red', legend='None')\n",
    "line_naj.line(x, df_a['PdId'], color='Green', legend='Adult')\n",
    "line_naj.line(x, df_j['PdId'], color='Blue', legend='Juvenile')\n",
    "line_naj.xaxis.axis_label='Date'\n",
    "line_naj.yaxis.axis_label='Number of Crimes'\n",
    "show(line_naj)"
   ]
  },
  {
   "cell_type": "markdown",
   "metadata": {},
   "source": [
    "#### Districts vs Crime Categories"
   ]
  },
  {
   "cell_type": "code",
   "execution_count": null,
   "metadata": {},
   "outputs": [],
   "source": [
    "top10_category=df_raw.groupby('Category')['PdId'].count().nlargest(10).index.tolist()\n",
    "top5_district=df_raw.groupby('PdDistrict')['PdId'].count().nlargest(5).index.tolist()\n",
    "\n",
    "df_catdist=df_raw[(df_raw['Category'].isin(top10_category)) & \n",
    "                  (df_raw['PdDistrict'].isin(top5_district))\n",
    "                 ].groupby(['Category','PdDistrict'])['PdId'].count().unstack()\n",
    "\n",
    "x=df_catdist.index.tolist()\n",
    "catdist_line=figure(title='Top 10 crimes in the top 5 districts of SF', width=700, height=500, x_range=x)\n",
    "color=['red','blue','green','orange','gold']\n",
    "for i,name in enumerate(df_catdist.columns.tolist()):\n",
    "    catdist_line.line(x, df_catdist[name], color=color[i], line_width=2, legend=name)\n",
    "catdist_line.xaxis.major_label_orientation=45\n",
    "catdist_line.yaxis.formatter=NumeralTickFormatter(format='0,0')\n",
    "show(catdist_line)"
   ]
  },
  {
   "cell_type": "code",
   "execution_count": null,
   "metadata": {},
   "outputs": [],
   "source": []
  },
  {
   "cell_type": "code",
   "execution_count": null,
   "metadata": {},
   "outputs": [],
   "source": []
  }
 ],
 "metadata": {
  "kernelspec": {
   "display_name": "Python 3",
   "language": "python",
   "name": "python3"
  },
  "language_info": {
   "codemirror_mode": {
    "name": "ipython",
    "version": 3
   },
   "file_extension": ".py",
   "mimetype": "text/x-python",
   "name": "python",
   "nbconvert_exporter": "python",
   "pygments_lexer": "ipython3",
   "version": "3.7.3"
  }
 },
 "nbformat": 4,
 "nbformat_minor": 2
}
